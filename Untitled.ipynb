{
 "cells": [
  {
   "cell_type": "code",
   "execution_count": 1,
   "metadata": {},
   "outputs": [
    {
     "name": "stdout",
     "output_type": "stream",
     "text": [
      " * Serving Flask app \"__main__\" (lazy loading)\n",
      " * Environment: production\n",
      "   WARNING: This is a development server. Do not use it in a production deployment.\n",
      "   Use a production WSGI server instead.\n",
      " * Debug mode: on\n"
     ]
    },
    {
     "name": "stderr",
     "output_type": "stream",
     "text": [
      " * Restarting with stat\n"
     ]
    },
    {
     "ename": "SystemExit",
     "evalue": "1",
     "output_type": "error",
     "traceback": [
      "An exception has occurred, use %tb to see the full traceback.\n",
      "\u001b[1;31mSystemExit\u001b[0m\u001b[1;31m:\u001b[0m 1\n"
     ]
    },
    {
     "name": "stderr",
     "output_type": "stream",
     "text": [
      "C:\\Users\\ABHI\\Anaconda3\\lib\\site-packages\\IPython\\core\\interactiveshell.py:3333: UserWarning: To exit: use 'exit', 'quit', or Ctrl-D.\n",
      "  warn(\"To exit: use 'exit', 'quit', or Ctrl-D.\", stacklevel=1)\n"
     ]
    }
   ],
   "source": [
    "from flask import Flask, render_template, request\n",
    "import pandas as pd\n",
    "import numpy as np\n",
    "from flask_table import Table, Col\n",
    "\n",
    "#building flask table for showing recommendation results\n",
    "class Results(Table):\n",
    "    id = Col('Id', show=False)\n",
    "    title = Col('Recommendation List')\n",
    "\n",
    "app = Flask(__name__)\n",
    "\n",
    "#Welcome Page\n",
    "@app.route(\"/\")\n",
    "def welcome():\n",
    "    return render_template('welcome.html')\n",
    "\n",
    "#Rating Page\n",
    "@app.route(\"/rating\", methods=[\"GET\", \"POST\"])\n",
    "def rating():\n",
    "    if request.method==\"POST\":\n",
    "        return render_template('recommendation.html')\n",
    "    return render_template('rating.html')\n",
    "\n",
    "#Results Page\n",
    "@app.route(\"/recommendation\", methods=[\"GET\", \"POST\"])\n",
    "def recommendation():\n",
    "    if request.method == 'POST':\n",
    "        #reading the original dataset\n",
    "        movies = pd.read_csv('movies.csv')\n",
    "\n",
    "        #separating genres for each movie\n",
    "        movies = pd.concat([movies, movies.genres.str.get_dummies(sep='|')], axis=1)\n",
    "\n",
    "        #dropping variables to have a dummy 1-0 matrix of movies and their genres\n",
    "        ## IMAX is not a genre, it is a specific method of filming a movie, thus removed\n",
    "        ###we do not need movieId for this project\n",
    "        categories = movies.drop(['title', 'genres', 'IMAX', 'movieId'], axis=1)\n",
    "\n",
    "        #initializing user preference list which will contain user ratings\n",
    "        preferences = []\n",
    "\n",
    "        #reading rating values given by user in the front-end\n",
    "        Action = request.form.get('Action')\n",
    "        Adventure = request.form.get('Adventure')\n",
    "        Animation = request.form.get('Animation')\n",
    "        Children = request.form.get('Children')\n",
    "        Comedy = request.form.get('Comedy')\n",
    "        Crime = request.form.get('Crime')\n",
    "        Documentary = request.form.get('Documentary')\n",
    "        Drama = request.form.get('Drama')\n",
    "        Fantasy = request.form.get('Fantasy')\n",
    "        FilmNoir = request.form.get('FilmNoir')\n",
    "        Horror = request.form.get('Horror')\n",
    "        Musical = request.form.get('Musical')\n",
    "        Mystery = request.form.get('Mystery')\n",
    "        Romance = request.form.get('Romance')\n",
    "        SciFi = request.form.get('SciFi')\n",
    "        Thriller = request.form.get('Thriller')\n",
    "        War = request.form.get('War')\n",
    "        Western = request.form.get('Western')\n",
    "\n",
    "        #inserting each rating in a specific position based on the movie-genre matrix\n",
    "        preferences.insert(0, int(Action))\n",
    "        preferences.insert(1,int(Adventure))\n",
    "        preferences.insert(2,int(Animation))\n",
    "        preferences.insert(3,int(Children))\n",
    "        preferences.insert(4,int(Comedy))\n",
    "        preferences.insert(5,int(Crime))\n",
    "        preferences.insert(6,int(Documentary))\n",
    "        preferences.insert(7,int(Drama))\n",
    "        preferences.insert(8,int(Fantasy))\n",
    "        preferences.insert(9,int(FilmNoir))\n",
    "        preferences.insert(10,int(Horror))\n",
    "        preferences.insert(11,int(Musical))\n",
    "        preferences.insert(12,int(Mystery))\n",
    "        preferences.insert(13,int(Romance))\n",
    "        preferences.insert(14,int(SciFi))\n",
    "        preferences.insert(15,int(War))\n",
    "        preferences.insert(16,int(Thriller))\n",
    "        preferences.insert(17,int(Western))\n",
    "\n",
    "        #This funtion will get each movie score based on user's ratings through dot product\n",
    "        def get_score(a, b):\n",
    "           return np.dot(a, b)\n",
    "\n",
    "        #Generating recommendations based on top score movies\n",
    "        def recommendations(X, n_recommendations):\n",
    "            movies['score'] = get_score(categories, preferences)\n",
    "            return movies.sort_values(by=['score'], ascending=False)['title'][:n_recommendations]\n",
    "\n",
    "        #printing top-20 recommendations\n",
    "        output= recommendations(preferences, 18)\n",
    "        table = Results(output)\n",
    "        table.border = True\n",
    "        print(type(output))\n",
    "        return render_template('recommendation.html', table=output)\n",
    "\n",
    "if __name__ == '__main__':\n",
    "   app.run(debug = True)"
   ]
  },
  {
   "cell_type": "code",
   "execution_count": null,
   "metadata": {},
   "outputs": [],
   "source": [
    "pip install Flask-Table"
   ]
  },
  {
   "cell_type": "code",
   "execution_count": null,
   "metadata": {},
   "outputs": [],
   "source": []
  }
 ],
 "metadata": {
  "kernelspec": {
   "display_name": "Python 3",
   "language": "python",
   "name": "python3"
  },
  "language_info": {
   "codemirror_mode": {
    "name": "ipython",
    "version": 3
   },
   "file_extension": ".py",
   "mimetype": "text/x-python",
   "name": "python",
   "nbconvert_exporter": "python",
   "pygments_lexer": "ipython3",
   "version": "3.7.3"
  }
 },
 "nbformat": 4,
 "nbformat_minor": 2
}
